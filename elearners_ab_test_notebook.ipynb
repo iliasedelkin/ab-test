{
 "cells": [
  {
   "cell_type": "markdown",
   "metadata": {},
   "source": [
    "**Задание 1. A/B–тестирование**\n",
    "\n",
    "Начнём с импорта необходимых библиотек"
   ]
  },
  {
   "cell_type": "code",
   "execution_count": 21,
   "metadata": {},
   "outputs": [],
   "source": [
    "import pandas as pd\n",
    "import scipy.stats as ss\n",
    "import numpy as np\n",
    "import yadisk\n",
    "import os\n",
    "import seaborn as sns\n",
    "import matplotlib.pyplot as plt\n",
    "from plotly.subplots import make_subplots\n",
    "import plotly.graph_objects as go"
   ]
  },
  {
   "cell_type": "markdown",
   "metadata": {},
   "source": [
    "Загрузим данные, используя API Яндекс-диска"
   ]
  },
  {
   "cell_type": "code",
   "execution_count": 20,
   "metadata": {},
   "outputs": [],
   "source": [
    "file_dict = {\n",
    "    'Проект_2_groups.csv': 'https://disk.yandex.ru/d/UhyYx41rTt3clQ',\n",
    "    'Проект_2_active_studs.csv': 'https://disk.yandex.ru/d/Tbs44Bm6H_FwFQ',\n",
    "    'Проект_2_checks.csv': 'https://disk.yandex.ru/d/pH1q-VqcxXjsVA'\n",
    "}\n",
    "\n",
    "def load_data(dict, directory):\n",
    "\n",
    "    if not os.path.isdir(directory):\n",
    "        os.mkdir(directory)\n",
    "\n",
    "    client = yadisk.Client()\n",
    "\n",
    "    for i in dict:\n",
    "\n",
    "        client.download_public(dict[i], directory + '/' + i)\n",
    "\n",
    "load_data(file_dict, 'data')"
   ]
  },
  {
   "cell_type": "markdown",
   "metadata": {},
   "source": [
    "Проведём предварительный анализ данных. Далее по очереди ответим на вопросы, поставленные в задании."
   ]
  },
  {
   "cell_type": "code",
   "execution_count": 3,
   "metadata": {},
   "outputs": [
    {
     "name": "stdout",
     "output_type": "stream",
     "text": [
      "<class 'pandas.core.frame.DataFrame'>\n",
      "RangeIndex: 8341 entries, 0 to 8340\n",
      "Data columns (total 1 columns):\n",
      " #   Column      Non-Null Count  Dtype\n",
      "---  ------      --------------  -----\n",
      " 0   student_id  8341 non-null   int64\n",
      "dtypes: int64(1)\n",
      "memory usage: 65.3 KB\n"
     ]
    }
   ],
   "source": [
    "active_studs = pd.read_csv('data/Проект_2_active_studs.csv')\n",
    "active_studs.info()"
   ]
  },
  {
   "cell_type": "code",
   "execution_count": 22,
   "metadata": {},
   "outputs": [
    {
     "name": "stdout",
     "output_type": "stream",
     "text": [
      "<class 'pandas.core.frame.DataFrame'>\n",
      "RangeIndex: 541 entries, 0 to 540\n",
      "Data columns (total 2 columns):\n",
      " #   Column      Non-Null Count  Dtype  \n",
      "---  ------      --------------  -----  \n",
      " 0   student_id  541 non-null    int64  \n",
      " 1   rev         541 non-null    float64\n",
      "dtypes: float64(1), int64(1)\n",
      "memory usage: 8.6 KB\n"
     ]
    }
   ],
   "source": [
    "checks = pd.read_csv('data/Проект_2_checks.csv', sep=';')\n",
    "checks.info()"
   ]
  },
  {
   "cell_type": "code",
   "execution_count": 23,
   "metadata": {},
   "outputs": [
    {
     "name": "stdout",
     "output_type": "stream",
     "text": [
      "Количество ошибочных чеков в датасете – 149\n"
     ]
    }
   ],
   "source": [
    "# В случае если данные по чекам корректные, все чеки должны относиться к активным пользователям. \n",
    "# Проверим, так ли это, и если нет – уберём из датасета лишние ошибочные чеки\n",
    "\n",
    "num_error_checks = checks.student_id.count() - checks.student_id.isin(active_studs.student_id).sum()\n",
    "if num_error_checks != 0:\n",
    "    print(f'Количество ошибочных чеков в датасете – {num_error_checks}')"
   ]
  },
  {
   "cell_type": "code",
   "execution_count": 24,
   "metadata": {},
   "outputs": [
    {
     "name": "stdout",
     "output_type": "stream",
     "text": [
      "<class 'pandas.core.frame.DataFrame'>\n",
      "RangeIndex: 392 entries, 0 to 391\n",
      "Data columns (total 3 columns):\n",
      " #   Column      Non-Null Count  Dtype  \n",
      "---  ------      --------------  -----  \n",
      " 0   index       392 non-null    int64  \n",
      " 1   student_id  392 non-null    int64  \n",
      " 2   rev         392 non-null    float64\n",
      "dtypes: float64(1), int64(2)\n",
      "memory usage: 9.3 KB\n"
     ]
    }
   ],
   "source": [
    "# Уберём лишние чеки и перезапишем датасет\n",
    "checks = pd.read_csv('data/Проект_2_checks.csv', sep=';')\n",
    "checks = checks.loc[checks.student_id.isin(active_studs.student_id)].reset_index()\n",
    "checks.info()"
   ]
  },
  {
   "cell_type": "code",
   "execution_count": 25,
   "metadata": {},
   "outputs": [
    {
     "name": "stdout",
     "output_type": "stream",
     "text": [
      "<class 'pandas.core.frame.DataFrame'>\n",
      "RangeIndex: 74484 entries, 0 to 74483\n",
      "Data columns (total 2 columns):\n",
      " #   Column  Non-Null Count  Dtype \n",
      "---  ------  --------------  ----- \n",
      " 0   id      74484 non-null  int64 \n",
      " 1   grp     74484 non-null  object\n",
      "dtypes: int64(1), object(1)\n",
      "memory usage: 1.1+ MB\n"
     ]
    }
   ],
   "source": [
    "groups = pd.read_csv('data/Проект_2_groups.csv', sep=';')\n",
    "groups.info()"
   ]
  },
  {
   "cell_type": "code",
   "execution_count": 29,
   "metadata": {},
   "outputs": [
    {
     "data": {
      "text/html": [
       "<div>\n",
       "<style scoped>\n",
       "    .dataframe tbody tr th:only-of-type {\n",
       "        vertical-align: middle;\n",
       "    }\n",
       "\n",
       "    .dataframe tbody tr th {\n",
       "        vertical-align: top;\n",
       "    }\n",
       "\n",
       "    .dataframe thead th {\n",
       "        text-align: right;\n",
       "    }\n",
       "</style>\n",
       "<table border=\"1\" class=\"dataframe\">\n",
       "  <thead>\n",
       "    <tr style=\"text-align: right;\">\n",
       "      <th></th>\n",
       "      <th>id</th>\n",
       "    </tr>\n",
       "    <tr>\n",
       "      <th>grp</th>\n",
       "      <th></th>\n",
       "    </tr>\n",
       "  </thead>\n",
       "  <tbody>\n",
       "    <tr>\n",
       "      <th>A</th>\n",
       "      <td>14671</td>\n",
       "    </tr>\n",
       "    <tr>\n",
       "      <th>B</th>\n",
       "      <td>59813</td>\n",
       "    </tr>\n",
       "  </tbody>\n",
       "</table>\n",
       "</div>"
      ],
      "text/plain": [
       "        id\n",
       "grp       \n",
       "A    14671\n",
       "B    59813"
      ]
     },
     "execution_count": 29,
     "metadata": {},
     "output_type": "execute_result"
    }
   ],
   "source": [
    "# Проверим количество клиентов в группах A и B\n",
    "groups.groupby('grp').nunique()"
   ]
  },
  {
   "cell_type": "code",
   "execution_count": 30,
   "metadata": {},
   "outputs": [
    {
     "data": {
      "text/plain": [
       "True"
      ]
     },
     "execution_count": 30,
     "metadata": {},
     "output_type": "execute_result"
    }
   ],
   "source": [
    "# Проверим что в датасете чеков все id студентов уникальны\n",
    "checks.student_id.count() == checks.student_id.nunique()"
   ]
  },
  {
   "cell_type": "markdown",
   "metadata": {},
   "source": [
    "**Вопрос: На какие метрики Вы смотрите в ходе анализа и почему?**\n",
    "\n",
    "**Ответ:**\n",
    "Исходя из имеющихся данных, так как объектом теста была механика оплаты услуг, сравнить выборки можем по метрикам:\n",
    "    \n",
    "– ARPU – средняя выручка на одного пользователя, \n",
    "\n",
    "– ARPAU – средняя выручка на одного активного пользователя,\n",
    "\n",
    "– ARPPU – средняя выручка на одного платящего пользователя,\n",
    "    \n",
    "– Конверсию пользователя в покупку,\n",
    "\n",
    "– Конверсию активного пользователя в покупку\n",
    "\n",
    "\n",
    "Данные метрики выбираем, так как они позволят достаточно объективно сравнить результат между группами А и B даже несмотря на их значимое различие по объёму. При этом ARPPU будет учитывать только размер чека у платящих пользователей, а ARPU также конверсию активных пользователей в платящих, что может быть более ценно, так как механика оплаты услуг, изменение которой мы тестируем, может влиять на вероятность покупки."
   ]
  },
  {
   "cell_type": "markdown",
   "metadata": {},
   "source": [
    "**Вопрос: Имеются ли различия в показателях и с чем они могут быть связаны?**\n",
    "\n",
    "Рассчитаем все метрики, и их различие между группами."
   ]
  },
  {
   "cell_type": "code",
   "execution_count": 31,
   "metadata": {},
   "outputs": [
    {
     "name": "stdout",
     "output_type": "stream",
     "text": [
      "ARPU в группе A – 4.96, в группе B – 6.57\n",
      "Прирост показателя ARPU в группе B по сравнению с группой A составляет 32.46%\n",
      "Конверсия в покупку в группе A – 0.53%, в группе B – 0.52%\n"
     ]
    }
   ],
   "source": [
    "all_cust_checks = checks \\\n",
    "    .merge(groups, left_on = 'student_id', right_on = 'id', how='right')[['id', 'grp', 'rev']] \\\n",
    "    .groupby(['id', 'grp'], as_index=False).agg(rev=('rev', 'sum')).fillna(0)\n",
    "all_cust_checks['has_paid'] = all_cust_checks.rev > 0\n",
    "\n",
    "df = round(all_cust_checks.groupby('grp', as_index=False).agg(arpu=('rev', 'mean'), num_cust=('id', 'count'), num_paying=('has_paid', 'sum')), 2)\n",
    "df['cr_rate'] = round(df['num_paying'] / df['num_cust'] * 100, 2)\n",
    "\n",
    "arpu_cr = df[['grp','arpu', 'cr_rate']]\n",
    "arpu_change = round((arpu_cr.iloc[1].arpu / arpu_cr.iloc[0].arpu - 1) * 100, 2)\n",
    "\n",
    "print(f'ARPU в группе A – {arpu_cr.iloc[0].arpu}, в группе B – {arpu_cr.iloc[1].arpu}')\n",
    "print(f'Прирост показателя ARPU в группе B по сравнению с группой A составляет {arpu_change}%')\n",
    "print(f'Конверсия в покупку в группе A – {arpu_cr.iloc[0].cr_rate}%, в группе B – {arpu_cr.iloc[1].cr_rate}%')\n"
   ]
  },
  {
   "cell_type": "code",
   "execution_count": 32,
   "metadata": {},
   "outputs": [
    {
     "name": "stdout",
     "output_type": "stream",
     "text": [
      "ARPAU в группе A – 47.44, в группе B – 57.86\n",
      "Прирост показателя ARPAU в группе B по сравнению с группой A составляет 21.96%\n",
      "Конверсия активных пользователей в покупку в группе A – 5.08%, в группе B – 4.61%\n"
     ]
    }
   ],
   "source": [
    "active_checks = groups \\\n",
    "    .merge(active_studs, left_on='id', right_on='student_id') \\\n",
    "    .merge(checks, on='student_id', how='left')[['id', 'grp', 'rev']] \\\n",
    "    .groupby(['id', 'grp'], as_index=False).agg(rev=('rev', 'sum')).fillna(0)\n",
    "active_checks['has_paid'] = active_checks.rev > 0\n",
    "\n",
    "df = round(active_checks.groupby('grp', as_index=False).agg(arpau=('rev', 'mean'), num_cust=('id', 'count'), num_paying=('has_paid', 'sum')), 2)\n",
    "df['cr_rate'] = round(df['num_paying'] / df['num_cust'] * 100, 2)\n",
    "arpau_cr = df[['grp', 'arpau', 'cr_rate']]\n",
    "arpau_change = round((arpau_cr.iloc[1].arpau / arpau_cr.iloc[0].arpau - 1) * 100, 2)\n",
    "\n",
    "print(f'ARPAU в группе A – {arpau_cr.iloc[0].arpau}, в группе B – {arpau_cr.iloc[1].arpau}')\n",
    "print(f'Прирост показателя ARPAU в группе B по сравнению с группой A составляет {arpau_change}%')\n",
    "print(f'Конверсия активных пользователей в покупку в группе A – {arpau_cr.iloc[0].cr_rate}%, в группе B – {arpau_cr.iloc[1].cr_rate}%')"
   ]
  },
  {
   "cell_type": "code",
   "execution_count": 33,
   "metadata": {},
   "outputs": [
    {
     "name": "stdout",
     "output_type": "stream",
     "text": [
      "ARPPU в группе A – 933.59, в группе B – 1255.83\n",
      "Прирост показателя ARPPU в группе B по сравнению с группой A составляет 34.52%\n"
     ]
    }
   ],
   "source": [
    "paying_checks = checks \\\n",
    "    .merge(groups, left_on = 'student_id', right_on = 'id')[['id', 'grp', 'rev']] \\\n",
    "    .groupby(['id', 'grp'], as_index=False).agg(rev=('rev', 'sum')).fillna(0)\n",
    "\n",
    "arppu = round(paying_checks.groupby('grp', as_index=False).agg(arppu=('rev', 'mean')), 2)\n",
    "arppu_change = round((arppu.iloc[1].arppu / arppu.iloc[0].arppu - 1) * 100, 2)\n",
    "\n",
    "print(f'ARPPU в группе A – {arppu.iloc[0].arppu}, в группе B – {arppu.iloc[1].arppu}')\n",
    "print(f'Прирост показателя ARPPU в группе B по сравнению с группой A составляет {arppu_change}%')"
   ]
  },
  {
   "cell_type": "markdown",
   "metadata": {},
   "source": [
    "**Ответ:** Видим что по большинству метрик группа B показывает заметно лучший результат. Единственный показатель, где видим просадку – конверсия активных пользователей в платёж. Впрочем, прирост среднего чека перекрывает данное снижение конверсии.\n",
    "\n",
    "Отличие метрик в тестовой группы от контрольной может быть связано со сделанными изменениями в механике оплаты услуг на сайте. Однако, для того чтобы это подтвердить, необходимо доказать, что имеющиеся различия статистически-значимые. В противном случае, причиной различия может быть погрешность при выборке данных, и данный результат не стоит принимать к сведению при планировании развития продукта."
   ]
  },
  {
   "cell_type": "markdown",
   "metadata": {},
   "source": [
    "**Вопрос: Являются ли эти различия статистически значимыми?**\n",
    "\n",
    "Для проверки статистической значимости различий мы можем произвести сравнение среднего значения суммы чека (оно же ARPPU) в двух группах, используя т-критерий Стьюдента. Так как задача состоит в сравнении средних двух выборок дискретной переменной, размер которых достаточно крупный, используем этот метод для выявляения статистически-значимых различий. У него есть два условия: нормальности распределения и гомогенности дисперсий. \n",
    "\n",
    "Визуализируем распределения выборок и проверим, удовлетворены ли данные условия."
   ]
  },
  {
   "cell_type": "code",
   "execution_count": 34,
   "metadata": {},
   "outputs": [
    {
     "data": {
      "image/png": "[encoded data removed]",
      "text/plain": [
       "<Figure size 559.625x500 with 1 Axes>"
      ]
     },
     "metadata": {},
     "output_type": "display_data"
    }
   ],
   "source": [
    "ab_checks = checks.merge(groups, left_on = 'student_id', right_on = 'id')[['id', 'grp', 'rev']]\n",
    "\n",
    "def plot_dist_arpu(data, measurement):\n",
    "\n",
    "    arpu_a = data[data['grp'] == 'A'][measurement].mean()\n",
    "    arpu_b = data[data['grp'] == 'B'][measurement].mean()\n",
    "\n",
    "    sns.displot(data=data, x='rev', hue='grp', kde=True)\n",
    "    plt.axvline(x=arpu_a, color='blue', linestyle='--', label=f'Mean A: {arpu_a:.2f}')\n",
    "    plt.axvline(x=arpu_b, color='orange', linestyle='--', label=f'Mean B: {arpu_b:.2f}')\n",
    "\n",
    "    plt.legend()\n",
    "    plt.show()\n",
    "\n",
    "plot_dist_arpu(data=ab_checks, measurement='rev')"
   ]
  },
  {
   "cell_type": "code",
   "execution_count": 14,
   "metadata": {},
   "outputs": [
    {
     "name": "stdout",
     "output_type": "stream",
     "text": [
      "Данные не распределены нормально\n",
      "Дисперсия в выборках гомогенна\n",
      "Количество измерений в группе A: 78, количество измерений в группе B: 313\n"
     ]
    }
   ],
   "source": [
    "a = ab_checks[ab_checks.grp == 'A'].rev\n",
    "b = ab_checks[ab_checks.grp == 'B'].rev\n",
    "\n",
    "s1, p1 = ss.shapiro(a)\n",
    "s2, p2 = ss.shapiro(b)\n",
    "\n",
    "# Пороговое значение p-value установим на уровне 0.05\n",
    "alpha = 0.05\n",
    "if (p1 > alpha) & (p2 > alpha):\n",
    "    print('Данные распределены нормально')\n",
    "else:\n",
    "    print('Данные не распределены нормально')\n",
    "\n",
    "s, p = ss.levene(a, b)\n",
    "\n",
    "# Пороговое значение p-value установим на уровне 0.05\n",
    "alpha = 0.05\n",
    "if p > alpha:\n",
    "    print('Дисперсия в выборках гомогенна')\n",
    "else:\n",
    "    print('Дисперсия в выборках не гомогенна')\n",
    "\n",
    "print(f'Количество измерений в группе A: {a.count()}, количество измерений в группе B: {b.count()}')\n"
   ]
  },
  {
   "cell_type": "markdown",
   "metadata": {},
   "source": [
    "Как видим, одно из классических условий для проведения т-теста – о нормальности распределений – не соблюдено. Однако, практика в индустрии такая, что при достаточно крупном размере выборок использование т-теста допускается и при нарушении требования о нормальности. Поэтому давайте сформулируем гипотезы и проведём тест. \n",
    "\n",
    "Н0 = \"Между средними двух в выборках отсутствуют статистически-значимые различия\"\n",
    "\n",
    "Н1 = \"Статистические-значимые различия между средними в двух выборках есть\""
   ]
  },
  {
   "cell_type": "code",
   "execution_count": 36,
   "metadata": {},
   "outputs": [
    {
     "name": "stdout",
     "output_type": "stream",
     "text": [
      "Различия статистически-значимы, p = 0.0003\n"
     ]
    }
   ],
   "source": [
    "# Пороговое значение p-value установим на уровне 0.05\n",
    "alpha = 0.05\n",
    "\n",
    "s, p = ss.ttest_ind(np.log(a), np.log(b))\n",
    "\n",
    "if p > alpha:\n",
    "    print(f'Различия не статистически-значимы, p = {round(p, 4)}')\n",
    "else:\n",
    "    print(f'Различия статистически-значимы, p = {round(p, 4)}')"
   ]
  },
  {
   "cell_type": "markdown",
   "metadata": {},
   "source": [
    "**Ответ:**\n",
    "По результатам проведения A/B теста можно сделать вывод, что различия статистически-значимы."
   ]
  },
  {
   "cell_type": "markdown",
   "metadata": {},
   "source": [
    "**Вопрос: Стоит ли запускать новую механику на всех пользователей?**\n",
    "\n",
    "*Ответ и вывод: так как в рамках A/B теста был выявлен статистически-значимый прирост значений ARPPU в тестовой группе по сравнению с контрольной, рекомендуется запускать новую платёжную механику на всех пользователей.*"
   ]
  },
  {
   "cell_type": "markdown",
   "metadata": {},
   "source": [
    "**Задание 2. SQL**\n",
    "\n",
    "**2.1.2 Необходимо написать оптимальный запрос, который даст информацию о количестве очень усердных студентов.**\n",
    "\n",
    "**Ответ:** Данный запрос ниже, количество усердных учеников – 231"
   ]
  },
  {
   "cell_type": "code",
   "execution_count": 16,
   "metadata": {
    "vscode": {
     "languageId": "sql"
    }
   },
   "outputs": [
    {
     "ename": "SyntaxError",
     "evalue": "invalid syntax (2338794335.py, line 1)",
     "output_type": "error",
     "traceback": [
      "\u001b[0;36m  Cell \u001b[0;32mIn[16], line 1\u001b[0;36m\u001b[0m\n\u001b[0;31m    SELECT COUNT(DISTINCT st_id) AS num_diligent\u001b[0m\n\u001b[0m           ^\u001b[0m\n\u001b[0;31mSyntaxError\u001b[0m\u001b[0;31m:\u001b[0m invalid syntax\n"
     ]
    }
   ],
   "source": [
    "SELECT COUNT(DISTINCT st_id) AS num_diligent\n",
    "FROM \n",
    "\t(SELECT \n",
    "\t\tMONTH(timest), \n",
    "\t\tst_id\n",
    "\tFROM peas\n",
    "\tGROUP BY MONTH(timest), st_id\n",
    "\tHAVING COUNT(correct) >= 20)"
   ]
  },
  {
   "cell_type": "markdown",
   "metadata": {},
   "source": [
    "**2.2.2 Необходимо в одном запросе выгрузить следующую информацию о группах пользователей:**\n",
    "\n",
    "ARPU, ARPAU, CR в покупку, СR активного пользователя в покупку, CR пользователя из активности по математике (subject = ’math’) в покупку курса по математике.\n",
    "\n",
    "**Ответ:** Запрос, рассчитывающий и демонстрирующий все требуемые по заданию метрики, ниже. Для удобства использования части запроса отмечены коментариями. Исходя из сделанных расчётов, в тесторой группе все метрики выше."
   ]
  },
  {
   "cell_type": "code",
   "execution_count": null,
   "metadata": {
    "vscode": {
     "languageId": "sql"
    }
   },
   "outputs": [],
   "source": [
    "-- Prepare subqueries\n",
    "\n",
    "WITH rev_per_stud AS (\n",
    "    SELECT \n",
    "    \tst_id, \n",
    "    \tSUM(money) AS revenue\n",
    "    FROM final_project_check\n",
    "    GROUP BY st_id\n",
    "\t),\n",
    "\n",
    "active_studs AS (\n",
    "\tSELECT \n",
    "\t\ta.st_id AS st_id,\n",
    "\t\ta.act_status AS act_status,\n",
    "\t\tb.math_act_status AS math_act_status\n",
    "\tFROM (\n",
    "\t\tSELECT \n",
    "\t\t\tst_id,\n",
    "\t\t\tCOUNT(correct) > 10 AS act_status\n",
    "\t\tFROM peas \n",
    "\t\tGROUP BY st_id\n",
    "\t\t) AS a\n",
    "\tLEFT JOIN (\n",
    "\t\tSELECT \n",
    "\t\t\tst_id, \n",
    "\t\t\tTrue AS math_act_status\n",
    "\t\tFROM peas \n",
    "\t\tGROUP BY st_id, subject\n",
    "\t\tHAVING COUNT(correct) >= 2 AND subject = 'Math'\n",
    "\t\t) AS b\n",
    "\tON a.st_id = b.st_id\n",
    "\t),\n",
    "\n",
    "buying_studs AS (\n",
    "\tSELECT \n",
    "\t\ta.st_id AS st_id,\n",
    "\t\ta.test_grp AS test_grp,\n",
    "\t\ta.buy_status AS buy_status,\n",
    "\t\tb.math_buy_status AS math_buy_status\n",
    "\tFROM (\n",
    "\t\tSELECT \n",
    "\t\t\tp.st_id AS st_id,\n",
    "\t\t\ts.test_grp AS test_grp,\n",
    "\t\t\tSUM(fpc.money) > 0 AS buy_status\n",
    "\t\tFROM peas p\n",
    "\t\tLEFT JOIN studs s ON p.st_id = s.st_id\n",
    "\t\tLEFT JOIN final_project_check fpc ON p.st_id = fpc.st_id\n",
    "\t\tGROUP BY p.st_id, s.test_grp\n",
    "\t) AS a\n",
    "\tLEFT JOIN (\n",
    "\t\tSELECT \n",
    "\t\t\tst_id,\n",
    "\t\t\tSUM(money) > 0 AS math_buy_status\n",
    "\t\tFROM final_project_check\n",
    "\t\tWHERE subject = 'Math'\n",
    "\t\tGROUP BY st_id, subject\n",
    "\t\t) AS b\n",
    "\tON a.st_id = b.st_id\n",
    "\t),\n",
    "\t\n",
    "act_buing_studs AS (\n",
    "\tSELECT \n",
    "\t\ta.st_id AS st_id,\n",
    "\t\ta.act_status,\n",
    "\t\tb.buy_status AS buy_status\n",
    "\tFROM active_studs a \n",
    "\tJOIN (\n",
    "\t\tSELECT st_id, test_grp, buy_status\n",
    "\t\tFROM buying_studs\n",
    "\t\t) b \n",
    "\tON a.st_id = b.st_id\n",
    "\tAND a.act_status = True\n",
    "\t),\n",
    "\t\n",
    "math_act_buying_studs AS (\n",
    "\tSELECT \n",
    "\t\ta.st_id AS st_id,\n",
    "\t\ta.math_act_status AS act_status,\n",
    "\t\tb.math_buy_status AS buy_status\n",
    "\tFROM active_studs a \n",
    "\tJOIN (\n",
    "\t\tSELECT st_id, test_grp, math_buy_status\n",
    "\t\tFROM buying_studs\n",
    "\t\t) b \n",
    "\tON a.st_id = b.st_id\n",
    "\tAND a.math_act_status = True\n",
    "\t),\n",
    "\n",
    "--\tCalculate ARPU and ARPAU\n",
    "\t\n",
    "arpu_table AS (\n",
    "\tSELECT \n",
    "\t\ts.test_grp AS test_grp, \n",
    "\t\tROUND(SUM(rps.revenue) / COUNT(DISTINCT s.st_id), 2) AS arpu\n",
    "\tFROM studs s \n",
    "\tLEFT JOIN rev_per_stud rps ON s.st_id = rps.st_id\n",
    "\tGROUP BY s.test_grp\n",
    "\t),\n",
    "\t\n",
    "arpau_table AS (\n",
    "\tSELECT \n",
    "\t\ts.test_grp AS test_grp, \n",
    "\t\tROUND(SUM(rps.revenue) / SUM(a_s.act_status), 2) AS arpau\n",
    "\tFROM studs s\n",
    "\tLEFT JOIN rev_per_stud rps ON s.st_id = rps.st_id\n",
    "\tLEFT JOIN active_studs a_s ON rps.st_id = a_s.st_id\n",
    "\tGROUP BY s.test_grp\n",
    "\t),\n",
    "\t\n",
    "--\tCalculate 3 variants of CR\n",
    "\t\n",
    "cr_table AS (\n",
    "\tSELECT \n",
    "\t\ta.test_grp AS test_grp,\n",
    "\t\tROUND(SUM(a.buy_status) / COUNT(a.st_id) * 100, 1) AS cr_percent,\n",
    "\t\tROUND(SUM(b.buy_status) / SUM(b.act_status) * 100, 1) AS act_cr_percent,\n",
    "\t\tROUND(SUM(c.buy_status) / SUM(c.act_status) *100, 1) AS math_act_cr_percent\n",
    "\tFROM buying_studs a\n",
    "\tLEFT JOIN act_buing_studs b ON a.st_id = b.st_id\n",
    "\tLEFT JOIN math_act_buying_studs c ON a.st_id = c.st_id\n",
    "\tGROUP BY test_grp\n",
    "\t)\n",
    "\t\n",
    "--\tJoin the results together for display with the main query\n",
    "\n",
    "SELECT \n",
    "\ta.test_grp AS \"Test Group\",\n",
    "\tarpu AS ARPU,\n",
    "\tarpau AS ARPAU,\n",
    "\tcr_percent AS \"CR (%)\",\n",
    "\tact_cr_percent AS \"Active CR (%)\",\n",
    "\tmath_act_cr_percent AS \"Math Active CR (%)\"\n",
    "FROM arpu_table a \n",
    "JOIN arpau_table b ON a.test_grp = b.test_grp\n",
    "JOIN cr_table c ON a.test_grp = c.test_grp;"
   ]
  },
  {
   "cell_type": "markdown",
   "metadata": {},
   "source": [
    "**3.1.1 Задача: Реализуйте функцию, которая будет автоматически подгружать информацию из дополнительного файла groups_add.csv (заголовки могут отличаться) и на основании дополнительных параметров пересчитывать метрики.**\n",
    "\n",
    "**Ответ:** Функция ниже. Сначала для загрузки дополнительного файла она вызывает функцию, которая была декларирована в первой задаче. Далее она производит расчёт метрик, печатает результат в лог и возвращает датафрейм с результатом для его использования следующей функцией."
   ]
  },
  {
   "cell_type": "code",
   "execution_count": 42,
   "metadata": {},
   "outputs": [],
   "source": [
    "def recalculate_metrics(new_data):\n",
    "\n",
    "\n",
    "    # Загрузим новые данные\n",
    "    load_data(new_data, 'data')\n",
    "\n",
    "    # Импортируем все данные, и подготовим их к обработке\n",
    "    active_studs = pd.read_csv('data/Проект_2_active_studs.csv')\n",
    "    checks = pd.read_csv('data/Проект_2_checks.csv', sep=';')\n",
    "    groups = pd.read_csv('data/Проект_2_groups.csv', sep=';')\n",
    "    groups_add = pd.read_csv('data/Проект_2_groups_add.csv', header=0,  names=['id', 'grp'])\n",
    "\n",
    "    groups_upd = pd.concat([groups, groups_add], ignore_index=True)\n",
    "    checks = checks.loc[checks.student_id.isin(active_studs.student_id)].reset_index()\n",
    "\n",
    "    # Рассчитаем ARPU и CR\n",
    "    all_cust_checks = checks \\\n",
    "        .merge(groups_upd, left_on = 'student_id', right_on = 'id', how='right')[['id', 'grp', 'rev']] \\\n",
    "        .groupby(['id', 'grp'], as_index=False).agg(rev=('rev', 'sum')).fillna(0)\n",
    "    all_cust_checks['has_paid'] = all_cust_checks.rev > 0\n",
    "\n",
    "    df1 = round(all_cust_checks.groupby('grp', as_index=False).agg(arpu=('rev', 'mean'), num_cust=('id', 'count'), num_paying=('has_paid', 'sum')), 2)\n",
    "    df1['cr_rate'] = round(df1['num_paying'] / df1['num_cust'] * 100, 2)\n",
    "\n",
    "    arpu_cr = df1[['grp', 'arpu', 'cr_rate']]\n",
    "    arpu_change = round((arpu_cr.iloc[1].arpu / arpu_cr.iloc[0].arpu - 1) * 100, 2)\n",
    "\n",
    "    # Напечатаем результат\n",
    "    print(f'ARPU в группе A – {arpu_cr.iloc[0].arpu}, в группе B – {arpu_cr.iloc[1].arpu}')\n",
    "    print(f'Прирост показателя ARPU в группе B по сравнению с группой A составляет {arpu_change}%')\n",
    "    print(f'Конверсия в покупку в группе A – {arpu_cr.iloc[0].cr_rate}%, в группе B – {arpu_cr.iloc[1].cr_rate}%')\n",
    "\n",
    "\n",
    "    # Рассчитаем ARPAU и CR\n",
    "    active_checks = groups_upd \\\n",
    "        .merge(active_studs, left_on='id', right_on='student_id') \\\n",
    "        .merge(checks, on='student_id', how='left')[['id', 'grp', 'rev']] \\\n",
    "        .groupby(['id', 'grp'], as_index=False).agg(rev=('rev', 'sum')).fillna(0)\n",
    "    active_checks['has_paid'] = active_checks.rev > 0\n",
    "\n",
    "    df2 = round(active_checks.groupby('grp', as_index=False).agg(arpau=('rev', 'mean'), num_cust=('id', 'count'), num_paying=('has_paid', 'sum')), 2)\n",
    "    df2['cr_rate_active'] = round(df2['num_paying'] / df2['num_cust'] * 100, 2)\n",
    "    arpau_cr = df2[['grp', 'arpau', 'cr_rate_active']]\n",
    "    arpau_change = round((arpau_cr.iloc[1].arpau / arpau_cr.iloc[0].arpau - 1) * 100, 2)\n",
    "\n",
    "    # Напечатаем результат\n",
    "    print(f'ARPAU в группе A – {arpau_cr.iloc[0].arpau}, в группе B – {arpau_cr.iloc[1].arpau}')\n",
    "    print(f'Прирост показателя ARPAU в группе B по сравнению с группой A составляет {arpau_change}%')\n",
    "    print(f'Конверсия в активных пользователей в покупку в группе A – {arpau_cr.iloc[0].cr_rate_active}%, в группе B – {arpau_cr.iloc[1].cr_rate_active}%')\n",
    "\n",
    "\n",
    "    # Рассчитаем ARPPU \n",
    "    paying_checks = checks \\\n",
    "        .merge(groups_upd, left_on = 'student_id', right_on = 'id')[['id', 'grp', 'rev']] \\\n",
    "        .groupby(['id', 'grp'], as_index=False).agg(rev=('rev', 'sum')).fillna(0)\n",
    "\n",
    "    arppu = round(paying_checks.groupby('grp', as_index=False).agg(arppu=('rev', 'mean')), 2)\n",
    "    arppu_change = round((arppu.iloc[1].arppu / arppu.iloc[0].arppu - 1) * 100, 2)\n",
    "\n",
    "    # Напечатаем результат\n",
    "    print(f'ARPPU в группе A – {arppu.iloc[0].arppu}, в группе B – {arppu.iloc[1].arppu}')\n",
    "    print(f'Прирост показателя ARPPU в группе B по сравнению с группой A составляет {arppu_change}%')\n",
    "\n",
    "    # Подготовим датафрейм для передачи его в следующую функцию\n",
    "    result_df = arpu_cr \\\n",
    "        .merge(arpau_cr, on='grp') \\\n",
    "        .merge(arppu, on='grp')\n",
    "    \n",
    "    return result_df\n"
   ]
  },
  {
   "cell_type": "markdown",
   "metadata": {},
   "source": [
    "**3.1.2 Задача: Реализуйте функцию, которая будет строить графики по получаемым метрикам.**\n",
    "\n",
    "**Ответ:** Функция ниже. В качестве агрумента она принимает датафрейм, который возвращает функция \"calculate_metrics()\""
   ]
  },
  {
   "cell_type": "code",
   "execution_count": 43,
   "metadata": {},
   "outputs": [],
   "source": [
    "def plot_metrics(dataframe):\n",
    "\n",
    "    fig = make_subplots(\n",
    "        rows=1, cols=5,\n",
    "        subplot_titles=('ARPU (р.)', 'ARPAU (р.)', 'ARPPU (р.)', 'CR (%)', 'CR активных (%)')\n",
    "        )\n",
    "\n",
    "    fig.add_trace(go.Bar(x=dataframe['grp'], y=dataframe['arpu'], name='ARPU'), row=1, col=1)\n",
    "\n",
    "    fig.add_trace(go.Bar(x=dataframe['grp'], y=dataframe['arpau'], name='ARPAU'), row=1, col=2)\n",
    "\n",
    "    fig.add_trace(go.Bar(x=dataframe['grp'], y=dataframe['arppu'], name='ARPPU'), row=1, col=3)\n",
    "\n",
    "    fig.add_trace(go.Bar(x=dataframe['grp'], y=dataframe['cr_rate'], name='Конверсия в покупку'), row=1, col=4)\n",
    "\n",
    "    fig.add_trace(go.Bar(x=dataframe['grp'], y=dataframe['cr_rate_active'], name='Конверсия активных пользователей'), row=1, col=5)\n",
    "\n",
    "\n",
    "    fig.update_layout(showlegend=False, title_text='Meтрики по группам A/B теста')\n",
    "    fig.show()"
   ]
  },
  {
   "cell_type": "markdown",
   "metadata": {},
   "source": [
    "Протестируем обе функции"
   ]
  },
  {
   "cell_type": "code",
   "execution_count": 44,
   "metadata": {},
   "outputs": [
    {
     "name": "stdout",
     "output_type": "stream",
     "text": [
      "ARPU в группе A – 4.96, в группе B – 6.6\n",
      "Прирост показателя ARPU в группе B по сравнению с группой A составляет 33.06%\n",
      "Конверсия в покупку в группе A – 0.53%, в группе B – 0.52%\n",
      "ARPAU в группе A – 47.35, в группе B – 58.06\n",
      "Прирост показателя ARPAU в группе B по сравнению с группой A составляет 22.62%\n",
      "Конверсия в активных пользователей в покупку в группе A – 5.07%, в группе B – 4.62%\n",
      "ARPPU в группе A – 933.59, в группе B – 1257.88\n",
      "Прирост показателя ARPPU в группе B по сравнению с группой A составляет 34.74%\n"
     ]
    },
    {
     "data": {
      "application/vnd.plotly.v1+json": {
       "config": {
        "plotlyServerURL": "https://plot.ly"
       },
       "data": [
        {
         "name": "ARPU",
         "type": "bar",
         "x": [
          "A",
          "B"
         ],
         "xaxis": "x",
         "y": [
          4.96,
          6.6
         ],
         "yaxis": "y"
        },
        {
         "name": "ARPAU",
         "type": "bar",
         "x": [
          "A",
          "B"
         ],
         "xaxis": "x2",
         "y": [
          47.35,
          58.06
         ],
         "yaxis": "y2"
        },
        {
         "name": "ARPPU",
         "type": "bar",
         "x": [
          "A",
          "B"
         ],
         "xaxis": "x3",
         "y": [
          933.59,
          1257.88
         ],
         "yaxis": "y3"
        },
        {
         "name": "Конверсия в покупку",
         "type": "bar",
         "x": [
          "A",
          "B"
         ],
         "xaxis": "x4",
         "y": [
          0.53,
          0.52
         ],
         "yaxis": "y4"
        },
        {
         "name": "Конверсия активных пользователей",
         "type": "bar",
         "x": [
          "A",
          "B"
         ],
         "xaxis": "x5",
         "y": [
          5.07,
          4.62
         ],
         "yaxis": "y5"
        }
       ],
       "layout": {
        "annotations": [
         {
          "font": {
           "size": 16
          },
          "showarrow": false,
          "text": "ARPU (р.)",
          "x": 0.08399999999999999,
          "xanchor": "center",
          "xref": "paper",
          "y": 1,
          "yanchor": "bottom",
          "yref": "paper"
         },
         {
          "font": {
           "size": 16
          },
          "showarrow": false,
          "text": "ARPAU (р.)",
          "x": 0.292,
          "xanchor": "center",
          "xref": "paper",
          "y": 1,
          "yanchor": "bottom",
          "yref": "paper"
         },
         {
          "font": {
           "size": 16
          },
          "showarrow": false,
          "text": "ARPPU (р.)",
          "x": 0.5,
          "xanchor": "center",
          "xref": "paper",
          "y": 1,
          "yanchor": "bottom",
          "yref": "paper"
         },
         {
          "font": {
           "size": 16
          },
          "showarrow": false,
          "text": "CR (%)",
          "x": 0.708,
          "xanchor": "center",
          "xref": "paper",
          "y": 1,
          "yanchor": "bottom",
          "yref": "paper"
         },
         {
          "font": {
           "size": 16
          },
          "showarrow": false,
          "text": "CR активных (%)",
          "x": 0.9159999999999999,
          "xanchor": "center",
          "xref": "paper",
          "y": 1,
          "yanchor": "bottom",
          "yref": "paper"
         }
        ],
        "showlegend": false,
        "template": {
         "data": {
          "bar": [
           {
            "error_x": {
             "color": "#2a3f5f"
            },
            "error_y": {
             "color": "#2a3f5f"
            },
            "marker": {
             "line": {
              "color": "#E5ECF6",
              "width": 0.5
             },
             "pattern": {
              "fillmode": "overlay",
              "size": 10,
              "solidity": 0.2
             }
            },
            "type": "bar"
           }
          ],
          "barpolar": [
           {
            "marker": {
             "line": {
              "color": "#E5ECF6",
              "width": 0.5
             },
             "pattern": {
              "fillmode": "overlay",
              "size": 10,
              "solidity": 0.2
             }
            },
            "type": "barpolar"
           }
          ],
          "carpet": [
           {
            "aaxis": {
             "endlinecolor": "#2a3f5f",
             "gridcolor": "white",
             "linecolor": "white",
             "minorgridcolor": "white",
             "startlinecolor": "#2a3f5f"
            },
            "baxis": {
             "endlinecolor": "#2a3f5f",
             "gridcolor": "white",
             "linecolor": "white",
             "minorgridcolor": "white",
             "startlinecolor": "#2a3f5f"
            },
            "type": "carpet"
           }
          ],
          "choropleth": [
           {
            "colorbar": {
             "outlinewidth": 0,
             "ticks": ""
            },
            "type": "choropleth"
           }
          ],
          "contour": [
           {
            "colorbar": {
             "outlinewidth": 0,
             "ticks": ""
            },
            "colorscale": [
             [
              0,
              "#0d0887"
             ],
             [
              0.1111111111111111,
              "#46039f"
             ],
             [
              0.2222222222222222,
              "#7201a8"
             ],
             [
              0.3333333333333333,
              "#9c179e"
             ],
             [
              0.4444444444444444,
              "#bd3786"
             ],
             [
              0.5555555555555556,
              "#d8576b"
             ],
             [
              0.6666666666666666,
              "#ed7953"
             ],
             [
              0.7777777777777778,
              "#fb9f3a"
             ],
             [
              0.8888888888888888,
              "#fdca26"
             ],
             [
              1,
              "#f0f921"
             ]
            ],
            "type": "contour"
           }
          ],
          "contourcarpet": [
           {
            "colorbar": {
             "outlinewidth": 0,
             "ticks": ""
            },
            "type": "contourcarpet"
           }
          ],
          "heatmap": [
           {
            "colorbar": {
             "outlinewidth": 0,
             "ticks": ""
            },
            "colorscale": [
             [
              0,
              "#0d0887"
             ],
             [
              0.1111111111111111,
              "#46039f"
             ],
             [
              0.2222222222222222,
              "#7201a8"
             ],
             [
              0.3333333333333333,
              "#9c179e"
             ],
             [
              0.4444444444444444,
              "#bd3786"
             ],
             [
              0.5555555555555556,
              "#d8576b"
             ],
             [
              0.6666666666666666,
              "#ed7953"
             ],
             [
              0.7777777777777778,
              "#fb9f3a"
             ],
             [
              0.8888888888888888,
              "#fdca26"
             ],
             [
              1,
              "#f0f921"
             ]
            ],
            "type": "heatmap"
           }
          ],
          "heatmapgl": [
           {
            "colorbar": {
             "outlinewidth": 0,
             "ticks": ""
            },
            "colorscale": [
             [
              0,
              "#0d0887"
             ],
             [
              0.1111111111111111,
              "#46039f"
             ],
             [
              0.2222222222222222,
              "#7201a8"
             ],
             [
              0.3333333333333333,
              "#9c179e"
             ],
             [
              0.4444444444444444,
              "#bd3786"
             ],
             [
              0.5555555555555556,
              "#d8576b"
             ],
             [
              0.6666666666666666,
              "#ed7953"
             ],
             [
              0.7777777777777778,
              "#fb9f3a"
             ],
             [
              0.8888888888888888,
              "#fdca26"
             ],
             [
              1,
              "#f0f921"
             ]
            ],
            "type": "heatmapgl"
           }
          ],
          "histogram": [
           {
            "marker": {
             "pattern": {
              "fillmode": "overlay",
              "size": 10,
              "solidity": 0.2
             }
            },
            "type": "histogram"
           }
          ],
          "histogram2d": [
           {
            "colorbar": {
             "outlinewidth": 0,
             "ticks": ""
            },
            "colorscale": [
             [
              0,
              "#0d0887"
             ],
             [
              0.1111111111111111,
              "#46039f"
             ],
             [
              0.2222222222222222,
              "#7201a8"
             ],
             [
              0.3333333333333333,
              "#9c179e"
             ],
             [
              0.4444444444444444,
              "#bd3786"
             ],
             [
              0.5555555555555556,
              "#d8576b"
             ],
             [
              0.6666666666666666,
              "#ed7953"
             ],
             [
              0.7777777777777778,
              "#fb9f3a"
             ],
             [
              0.8888888888888888,
              "#fdca26"
             ],
             [
              1,
              "#f0f921"
             ]
            ],
            "type": "histogram2d"
           }
          ],
          "histogram2dcontour": [
           {
            "colorbar": {
             "outlinewidth": 0,
             "ticks": ""
            },
            "colorscale": [
             [
              0,
              "#0d0887"
             ],
             [
              0.1111111111111111,
              "#46039f"
             ],
             [
              0.2222222222222222,
              "#7201a8"
             ],
             [
              0.3333333333333333,
              "#9c179e"
             ],
             [
              0.4444444444444444,
              "#bd3786"
             ],
             [
              0.5555555555555556,
              "#d8576b"
             ],
             [
              0.6666666666666666,
              "#ed7953"
             ],
             [
              0.7777777777777778,
              "#fb9f3a"
             ],
             [
              0.8888888888888888,
              "#fdca26"
             ],
             [
              1,
              "#f0f921"
             ]
            ],
            "type": "histogram2dcontour"
           }
          ],
          "mesh3d": [
           {
            "colorbar": {
             "outlinewidth": 0,
             "ticks": ""
            },
            "type": "mesh3d"
           }
          ],
          "parcoords": [
           {
            "line": {
             "colorbar": {
              "outlinewidth": 0,
              "ticks": ""
             }
            },
            "type": "parcoords"
           }
          ],
          "pie": [
           {
            "automargin": true,
            "type": "pie"
           }
          ],
          "scatter": [
           {
            "fillpattern": {
             "fillmode": "overlay",
             "size": 10,
             "solidity": 0.2
            },
            "type": "scatter"
           }
          ],
          "scatter3d": [
           {
            "line": {
             "colorbar": {
              "outlinewidth": 0,
              "ticks": ""
             }
            },
            "marker": {
             "colorbar": {
              "outlinewidth": 0,
              "ticks": ""
             }
            },
            "type": "scatter3d"
           }
          ],
          "scattercarpet": [
           {
            "marker": {
             "colorbar": {
              "outlinewidth": 0,
              "ticks": ""
             }
            },
            "type": "scattercarpet"
           }
          ],
          "scattergeo": [
           {
            "marker": {
             "colorbar": {
              "outlinewidth": 0,
              "ticks": ""
             }
            },
            "type": "scattergeo"
           }
          ],
          "scattergl": [
           {
            "marker": {
             "colorbar": {
              "outlinewidth": 0,
              "ticks": ""
             }
            },
            "type": "scattergl"
           }
          ],
          "scattermapbox": [
           {
            "marker": {
             "colorbar": {
              "outlinewidth": 0,
              "ticks": ""
             }
            },
            "type": "scattermapbox"
           }
          ],
          "scatterpolar": [
           {
            "marker": {
             "colorbar": {
              "outlinewidth": 0,
              "ticks": ""
             }
            },
            "type": "scatterpolar"
           }
          ],
          "scatterpolargl": [
           {
            "marker": {
             "colorbar": {
              "outlinewidth": 0,
              "ticks": ""
             }
            },
            "type": "scatterpolargl"
           }
          ],
          "scatterternary": [
           {
            "marker": {
             "colorbar": {
              "outlinewidth": 0,
              "ticks": ""
             }
            },
            "type": "scatterternary"
           }
          ],
          "surface": [
           {
            "colorbar": {
             "outlinewidth": 0,
             "ticks": ""
            },
            "colorscale": [
             [
              0,
              "#0d0887"
             ],
             [
              0.1111111111111111,
              "#46039f"
             ],
             [
              0.2222222222222222,
              "#7201a8"
             ],
             [
              0.3333333333333333,
              "#9c179e"
             ],
             [
              0.4444444444444444,
              "#bd3786"
             ],
             [
              0.5555555555555556,
              "#d8576b"
             ],
             [
              0.6666666666666666,
              "#ed7953"
             ],
             [
              0.7777777777777778,
              "#fb9f3a"
             ],
             [
              0.8888888888888888,
              "#fdca26"
             ],
             [
              1,
              "#f0f921"
             ]
            ],
            "type": "surface"
           }
          ],
          "table": [
           {
            "cells": {
             "fill": {
              "color": "#EBF0F8"
             },
             "line": {
              "color": "white"
             }
            },
            "header": {
             "fill": {
              "color": "#C8D4E3"
             },
             "line": {
              "color": "white"
             }
            },
            "type": "table"
           }
          ]
         },
         "layout": {
          "annotationdefaults": {
           "arrowcolor": "#2a3f5f",
           "arrowhead": 0,
           "arrowwidth": 1
          },
          "autotypenumbers": "strict",
          "coloraxis": {
           "colorbar": {
            "outlinewidth": 0,
            "ticks": ""
           }
          },
          "colorscale": {
           "diverging": [
            [
             0,
             "#8e0152"
            ],
            [
             0.1,
             "#c51b7d"
            ],
            [
             0.2,
             "#de77ae"
            ],
            [
             0.3,
             "#f1b6da"
            ],
            [
             0.4,
             "#fde0ef"
            ],
            [
             0.5,
             "#f7f7f7"
            ],
            [
             0.6,
             "#e6f5d0"
            ],
            [
             0.7,
             "#b8e186"
            ],
            [
             0.8,
             "#7fbc41"
            ],
            [
             0.9,
             "#4d9221"
            ],
            [
             1,
             "#276419"
            ]
           ],
           "sequential": [
            [
             0,
             "#0d0887"
            ],
            [
             0.1111111111111111,
             "#46039f"
            ],
            [
             0.2222222222222222,
             "#7201a8"
            ],
            [
             0.3333333333333333,
             "#9c179e"
            ],
            [
             0.4444444444444444,
             "#bd3786"
            ],
            [
             0.5555555555555556,
             "#d8576b"
            ],
            [
             0.6666666666666666,
             "#ed7953"
            ],
            [
             0.7777777777777778,
             "#fb9f3a"
            ],
            [
             0.8888888888888888,
             "#fdca26"
            ],
            [
             1,
             "#f0f921"
            ]
           ],
           "sequentialminus": [
            [
             0,
             "#0d0887"
            ],
            [
             0.1111111111111111,
             "#46039f"
            ],
            [
             0.2222222222222222,
             "#7201a8"
            ],
            [
             0.3333333333333333,
             "#9c179e"
            ],
            [
             0.4444444444444444,
             "#bd3786"
            ],
            [
             0.5555555555555556,
             "#d8576b"
            ],
            [
             0.6666666666666666,
             "#ed7953"
            ],
            [
             0.7777777777777778,
             "#fb9f3a"
            ],
            [
             0.8888888888888888,
             "#fdca26"
            ],
            [
             1,
             "#f0f921"
            ]
           ]
          },
          "colorway": [
           "#636efa",
           "#EF553B",
           "#00cc96",
           "#ab63fa",
           "#FFA15A",
           "#19d3f3",
           "#FF6692",
           "#B6E880",
           "#FF97FF",
           "#FECB52"
          ],
          "font": {
           "color": "#2a3f5f"
          },
          "geo": {
           "bgcolor": "white",
           "lakecolor": "white",
           "landcolor": "#E5ECF6",
           "showlakes": true,
           "showland": true,
           "subunitcolor": "white"
          },
          "hoverlabel": {
           "align": "left"
          },
          "hovermode": "closest",
          "mapbox": {
           "style": "light"
          },
          "paper_bgcolor": "white",
          "plot_bgcolor": "#E5ECF6",
          "polar": {
           "angularaxis": {
            "gridcolor": "white",
            "linecolor": "white",
            "ticks": ""
           },
           "bgcolor": "#E5ECF6",
           "radialaxis": {
            "gridcolor": "white",
            "linecolor": "white",
            "ticks": ""
           }
          },
          "scene": {
           "xaxis": {
            "backgroundcolor": "#E5ECF6",
            "gridcolor": "white",
            "gridwidth": 2,
            "linecolor": "white",
            "showbackground": true,
            "ticks": "",
            "zerolinecolor": "white"
           },
           "yaxis": {
            "backgroundcolor": "#E5ECF6",
            "gridcolor": "white",
            "gridwidth": 2,
            "linecolor": "white",
            "showbackground": true,
            "ticks": "",
            "zerolinecolor": "white"
           },
           "zaxis": {
            "backgroundcolor": "#E5ECF6",
            "gridcolor": "white",
            "gridwidth": 2,
            "linecolor": "white",
            "showbackground": true,
            "ticks": "",
            "zerolinecolor": "white"
           }
          },
          "shapedefaults": {
           "line": {
            "color": "#2a3f5f"
           }
          },
          "ternary": {
           "aaxis": {
            "gridcolor": "white",
            "linecolor": "white",
            "ticks": ""
           },
           "baxis": {
            "gridcolor": "white",
            "linecolor": "white",
            "ticks": ""
           },
           "bgcolor": "#E5ECF6",
           "caxis": {
            "gridcolor": "white",
            "linecolor": "white",
            "ticks": ""
           }
          },
          "title": {
           "x": 0.05
          },
          "xaxis": {
           "automargin": true,
           "gridcolor": "white",
           "linecolor": "white",
           "ticks": "",
           "title": {
            "standoff": 15
           },
           "zerolinecolor": "white",
           "zerolinewidth": 2
          },
          "yaxis": {
           "automargin": true,
           "gridcolor": "white",
           "linecolor": "white",
           "ticks": "",
           "title": {
            "standoff": 15
           },
           "zerolinecolor": "white",
           "zerolinewidth": 2
          }
         }
        },
        "title": {
         "text": "Meтрики по группам A/B теста"
        },
        "xaxis": {
         "anchor": "y",
         "domain": [
          0,
          0.16799999999999998
         ]
        },
        "xaxis2": {
         "anchor": "y2",
         "domain": [
          0.208,
          0.376
         ]
        },
        "xaxis3": {
         "anchor": "y3",
         "domain": [
          0.416,
          0.584
         ]
        },
        "xaxis4": {
         "anchor": "y4",
         "domain": [
          0.624,
          0.792
         ]
        },
        "xaxis5": {
         "anchor": "y5",
         "domain": [
          0.832,
          1
         ]
        },
        "yaxis": {
         "anchor": "x",
         "domain": [
          0,
          1
         ]
        },
        "yaxis2": {
         "anchor": "x2",
         "domain": [
          0,
          1
         ]
        },
        "yaxis3": {
         "anchor": "x3",
         "domain": [
          0,
          1
         ]
        },
        "yaxis4": {
         "anchor": "x4",
         "domain": [
          0,
          1
         ]
        },
        "yaxis5": {
         "anchor": "x5",
         "domain": [
          0,
          1
         ]
        }
       }
      }
     },
     "metadata": {},
     "output_type": "display_data"
    }
   ],
   "source": [
    "new_data = {'Проект_2_groups_add.csv': 'https://disk.yandex.ru/d/5Kxrz02m3IBUwQ'}\n",
    "result = recalculate_metrics(new_data)\n",
    "plot_metrics(result)"
   ]
  },
  {
   "cell_type": "code",
   "execution_count": null,
   "metadata": {},
   "outputs": [],
   "source": []
  }
 ],
 "metadata": {
  "kernelspec": {
   "display_name": "Python 3",
   "language": "python",
   "name": "python3"
  },
  "language_info": {
   "codemirror_mode": {
    "name": "ipython",
    "version": 3
   },
   "file_extension": ".py",
   "mimetype": "text/x-python",
   "name": "python",
   "nbconvert_exporter": "python",
   "pygments_lexer": "ipython3",
   "version": "3.11.8"
  }
 },
 "nbformat": 4,
 "nbformat_minor": 2
}
